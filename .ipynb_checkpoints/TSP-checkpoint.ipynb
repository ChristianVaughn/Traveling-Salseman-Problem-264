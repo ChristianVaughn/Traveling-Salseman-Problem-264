{
 "cells": [
  {
   "cell_type": "markdown",
   "metadata": {
    "id": "L7ymosx033Ge"
   },
   "source": [
    "#### Import python packages to be used"
   ]
  },
  {
   "cell_type": "code",
   "execution_count": 1,
   "metadata": {
    "id": "tHwhbwgP3zAN"
   },
   "outputs": [],
   "source": [
    "import random, numpy as np, math, copy, matplotlib.pyplot as plt\n",
    "import pandas as pd\n",
    "from scipy.spatial import distance_matrix\n",
    "from tqdm import tqdm\n",
    "from numba import njit, prange,vectorize, cuda\n",
    "from numba.typed import List\n",
    "\n",
    "from scipy.sparse import csr_matrix\n",
    "from scipy.sparse.csgraph import minimum_spanning_tree\n",
    "import networkx as nx"
   ]
  },
  {
   "cell_type": "markdown",
   "metadata": {},
   "source": [
    "# Ant Colony Optimization Algorithm"
   ]
  },
  {
   "cell_type": "markdown",
   "metadata": {
    "id": "i_y5ca8yEHfk"
   },
   "source": [
    "Update Methods: \n",
    "\n",
    "*   as_pheroupdate: Ant System Update, S*upd* <- S*iter*\n",
    "*   ib_pheroupdate: Iteration Best Update, S*upd* <- arg max F(s) (to avoid premature converence, best 10(?) will be used)\n",
    "\n"
   ]
  },
  {
   "cell_type": "code",
   "execution_count": 2,
   "metadata": {
    "id": "nJXhJZtrDcXL"
   },
   "outputs": [],
   "source": [
    "#Ant System Update\n",
    "@njit\n",
    "def as_pheroupdate(pheromone_maxtix,s_iter,total_list):\n",
    "   for index in range(len(total_list)):\n",
    "    #print(s_iter[index])\n",
    "    for jdex in range(len(s_iter[index])-1):\n",
    "      x = s_iter[index][jdex]\n",
    "      y = s_iter[index][jdex+1]\n",
    "      pheromone_maxtix[x][y] += 1/total_list[index]"
   ]
  },
  {
   "cell_type": "code",
   "execution_count": 3,
   "metadata": {
    "id": "_epvx3uOE-oy"
   },
   "outputs": [],
   "source": [
    "#Iteration Best Update\n",
    "@njit\n",
    "def ib_pheroupdate(pheromone_maxtix,s_iter,total_list):\n",
    "  sort_index = np.argsort(np.asarray(total_list))\n",
    "  #print(sort_index)\n",
    "  #print(np.sort(vals))\n",
    "  for index in range(10):\n",
    "    for jdex in range(len(s_iter[index])-1):\n",
    "      x = s_iter[sort_index[index]][jdex]\n",
    "      y = s_iter[sort_index[index]][jdex+1]\n",
    "      pheromone_maxtix[x][y] += 1/total_list[sort_index[index]]"
   ]
  },
  {
   "cell_type": "markdown",
   "metadata": {},
   "source": [
    "Function to delete an element from a Numpy array that doesnt make Numba throw errors"
   ]
  },
  {
   "cell_type": "code",
   "execution_count": 4,
   "metadata": {},
   "outputs": [],
   "source": [
    "@njit\n",
    "def delete_workaround(arr, num):\n",
    "    mask = np.zeros(arr.shape[0], dtype=np.int64) == 0\n",
    "    mask[np.where(arr == num)[0]] = False\n",
    "    return arr[mask]\n"
   ]
  },
  {
   "cell_type": "markdown",
   "metadata": {
    "id": "-0ZHCGvGh_3J"
   },
   "source": [
    "Ant Colony Optimization using adjacency matrices"
   ]
  },
  {
   "cell_type": "code",
   "execution_count": 18,
   "metadata": {
    "id": "utNnrXiR4NvX"
   },
   "outputs": [],
   "source": [
    "#Start of ACO algo\n",
    "\n",
    "\n",
    "@njit(fastmath = True)\n",
    "def aco_func(pheromone_maxtix,cities_distance_matrix,num_cities,ants,alpha,beta,update_func):\n",
    "  s_iter = List()\n",
    "  total_list = List()\n",
    "  \n",
    "  for i in prange(ants):\n",
    "    total = 0.0;\n",
    "    currentlocation = 0\n",
    "    s = List()\n",
    "    s.append(currentlocation)\n",
    "    canVisit = np.arange(num_cities)\n",
    "    #canVisit = np.delete(canVisit, np.argwhere(canVisit == currentlocation))\n",
    "    canVisit = delete_workaround(canVisit, currentlocation)\n",
    "    #print(\"start\")\n",
    "    while len(canVisit) !=0:\n",
    "      probSum = 0\n",
    "      probList = list()\n",
    "      for value in canVisit:\n",
    "        prob = (pheromone_maxtix[currentlocation][value] ** alpha) * ((1/cities_distance_matrix[currentlocation][value]) ** beta)\n",
    "        probSum += prob\n",
    "      if (probSum == 0):\n",
    "        newcity = np.random.choice(canVisit)\n",
    "      else:\n",
    "        for value in canVisit:\n",
    "          prob = ((pheromone_maxtix[currentlocation][value] ** alpha) * ((1/cities_distance_matrix[currentlocation][value]) ** beta)) / probSum\n",
    "          probList.append(prob)\n",
    "        cumulative_distribution = np.cumsum(np.asarray(probList))\n",
    "        cumulative_distribution /= cumulative_distribution[-1]\n",
    "        uniform_samples = np.random.rand(len(canVisit))\n",
    "        index = np.searchsorted(cumulative_distribution, uniform_samples, side=\"right\")\n",
    "        newcity = canVisit[index[0]]\n",
    "        \n",
    "      #print(\"newcity:\")\n",
    "      #print(newcity)\n",
    "      s.append(newcity)\n",
    "      total += cities_distance_matrix[currentlocation][newcity]\n",
    "      currentlocation = newcity\n",
    "      canVisit =  delete_workaround(canVisit, currentlocation)\n",
    "\n",
    "    s.append(0)\n",
    "    total += cities_distance_matrix[0][currentlocation]  \n",
    "    total_list.append(total)\n",
    "    s_iter.append(s)\n",
    "\n",
    "  #Pheromone Update\n",
    "  update_func(pheromone_maxtix,s_iter,total_list)"
   ]
  },
  {
   "cell_type": "markdown",
   "metadata": {},
   "source": [
    "Go through Adjacency matrix and return the most optimal path found."
   ]
  },
  {
   "cell_type": "code",
   "execution_count": 28,
   "metadata": {},
   "outputs": [],
   "source": [
    "def aco_results(pheromone_maxtix,num_cities,cities):\n",
    "    currentlocation = 0  #start at the randomly determined starting city\n",
    "    total = 0   #counter for the total distance in the path taken\n",
    "    route = []    #list to store the path taken\n",
    "    canVisit = np.array(range(num_cities))\n",
    "    canVisit = np.delete(canVisit, np.argwhere(canVisit == currentlocation))\n",
    "    route.append(currentlocation) #append the starting position to the route\n",
    "\n",
    "    #Each of the cities will be visited once, with the exception of the starting city, which we will return to\n",
    "    for i in range(len(cities)-1):\n",
    "        nextlocation = -1\n",
    "        max = np.NINF\n",
    "        for value in canVisit:\n",
    "            if pheromone_maxtix[currentlocation][value] > max:\n",
    "                max = pheromone_maxtix[currentlocation][value]\n",
    "                nextlocation = value\n",
    "        canVisit = np.delete(canVisit, np.argwhere(canVisit == currentlocation))\n",
    "        total += cities_distance_matrix[currentlocation][nextlocation] #adds the distance between the current city and the next city to the total\n",
    "        route.append(nextlocation) #appends the next city to the route\n",
    "        currentlocation = nextlocation #sets the current location to the next location\n",
    "        canVisit = np.delete(canVisit, np.argwhere(canVisit == currentlocation)) #drops the current city from the adjacency matrix since it can no longer be visited (with the exception of the return to the starting city)\n",
    "\n",
    "    #return to the starting location at the end\n",
    "    total += cities_distance_matrix[0][currentlocation] #find the distance from the last city visited to the starting location \n",
    "    route.append(0) #append the starting location to the route\n",
    "    print(total)\n",
    "    return route,total"
   ]
  },
  {
   "cell_type": "markdown",
   "metadata": {},
   "source": [
    "# Christofides algorithm"
   ]
  },
  {
   "cell_type": "code",
   "execution_count": 20,
   "metadata": {},
   "outputs": [],
   "source": [
    "def get_odds(min_span, node_length):\n",
    "    vert_list = list()\n",
    "    for node,degree in min_span.degree:\n",
    "        if degree % 2 == 1:\n",
    "            vert_list.append(node)\n",
    "    return np.array(vert_list)\n",
    "\n",
    "        "
   ]
  },
  {
   "cell_type": "code",
   "execution_count": 21,
   "metadata": {},
   "outputs": [],
   "source": [
    "def remove_dupe_verticies(tour):\n",
    "\n",
    "    tour_nodes = []\n",
    "    tour_edges = []\n",
    "    for node1,node2 in tour:\n",
    "        if node1 not in tour_nodes:\n",
    "            tour_nodes.append(node1)\n",
    "    tour_nodes.append(tour[0][0])\n",
    "    #for index in range(len(tour_nodes)):\n",
    "     #   if index < len(temp)-1:\n",
    "      #      tour_edges.append((tour_nodes[index], tour_nodes[index+1]))\n",
    "    return tour_nodes"
   ]
  },
  {
   "cell_type": "code",
   "execution_count": 22,
   "metadata": {},
   "outputs": [],
   "source": [
    "def christofides(distance_matrix,num_cities):\n",
    "    min_span_tree = minimum_spanning_tree(distance_matrix).toarray() #create a minimum spanning tree\n",
    "    min_span_tree = nx.from_numpy_matrix(min_span_tree) #convert numpy array to graph for easier accesability\n",
    "    odd_verts = get_odds(min_span_tree,num_cities) #get nodes from MST with odd degrees\n",
    "    subgraph_odds = nx.from_numpy_matrix(distance_matrix) #turn distance matrix into a graph and get subgraph with odd verts\n",
    "    subgraph_odds = subgraph_odds.subgraph(odd_verts)\n",
    "    \n",
    "    invert_subgraph = nx.Graph(subgraph_odds)\n",
    "    for (u, v, wt) in invert_subgraph.edges.data('weight'):\n",
    "        wait = wt * (-1)\n",
    "        invert_subgraph.add_edge(u,v,weight=wait)\n",
    "    min_weight_perfect_match = nx.algorithms.matching.max_weight_matching(invert_subgraph, maxcardinality=True)\n",
    "    min_weight_graph = subgraph_odds.edge_subgraph(min_weight_perfect_match)\n",
    "    multigraph = nx.MultiGraph()\n",
    "    multigraph.add_weighted_edges_from(min_weight_graph.edges.data('weight'))\n",
    "    multigraph.add_weighted_edges_from(min_span_tree.edges.data('weight'))\n",
    "    eulerian_tour = list(nx.eulerian_circuit(multigraph))\n",
    "    final_tour = remove_dupe_verticies(eulerian_tour)\n",
    "    return final_tour"
   ]
  },
  {
   "cell_type": "code",
   "execution_count": 81,
   "metadata": {},
   "outputs": [],
   "source": [
    "def christofides_total(route,distance_matrix):\n",
    "    total = 0\n",
    "    for i in range(len(route)-1):\n",
    "       total += distance_matrix[route[i]][route[i+1]]\n",
    "    total += distance_matrix[route[len(route)-1]][route[0]]\n",
    "    return route,total"
   ]
  },
  {
   "cell_type": "markdown",
   "metadata": {},
   "source": [
    "# Nearest Neighbor Algorithm"
   ]
  },
  {
   "cell_type": "code",
   "execution_count": 37,
   "metadata": {},
   "outputs": [],
   "source": [
    "\n",
    "#Heuristic algo - nearest neighbor\n",
    "def nearest_neighbor(cities_distance_matrix,num_cities,cities):\n",
    "    currentlocation = 0  #start at 0 just for easy comparison between ACO\n",
    "    total = 0   #counter for the total distance in the path taken\n",
    "    route = []    #list to store the path taken\n",
    "    canVisit = np.array(range(num_cities))\n",
    "    canVisit = np.delete(canVisit, np.argwhere(canVisit == currentlocation))\n",
    "    route.append(currentlocation) #append the starting position to the route\n",
    "    #Each of the cities will be visited once, with the exception of the starting city, which we will return to\n",
    "    for i in range(len(cities)-1):\n",
    "      nextlocation = -1\n",
    "      min = np.Inf\n",
    "      for value in canVisit:\n",
    "        if cities_distance_matrix[currentlocation][value] < min:\n",
    "          min = cities_distance_matrix[currentlocation][value]\n",
    "          nextlocation = value\n",
    "      #nextlocation = np.amin(cities_distance_matrix[currentlocation]) #using the adjacency matrix, finds the smallest value and returns the next city to be visited\n",
    "      canVisit = np.delete(canVisit, np.argwhere(canVisit == currentlocation))\n",
    "      total += cities_distance_matrix[currentlocation][nextlocation] #adds the distance between the current city and the next city to the total\n",
    "      route.append(nextlocation) #appends the next city to the route\n",
    "      currentlocation = nextlocation #sets the current location to the next location\n",
    "      canVisit = np.delete(canVisit, np.argwhere(canVisit == currentlocation)) #drops the current city from the adjacency matrix since it can no longer be visited (with the exception of the return to the starting city)\n",
    "\n",
    "    #return to the starting location at the end\n",
    "    total += cities_distance_matrix[0][currentlocation] #find the distance from the last city visited to the starting location \n",
    "    route.append(0) #append the starting location to the route\n",
    "    return route,total"
   ]
  },
  {
   "cell_type": "markdown",
   "metadata": {},
   "source": [
    "# Run Tests for all Algorithms"
   ]
  },
  {
   "cell_type": "markdown",
   "metadata": {},
   "source": [
    "Will run each algorithm with 3 varing difficulty datasets. \n",
    "The datasets will be city sizes 10,25,50 and each algorithm will be timed "
   ]
  },
  {
   "cell_type": "markdown",
   "metadata": {
    "id": "U7dGpzP64AdK"
   },
   "source": [
    "### Create Tests for 50 cities"
   ]
  },
  {
   "cell_type": "code",
   "execution_count": 83,
   "metadata": {
    "colab": {
     "base_uri": "https://localhost:8080/"
    },
    "id": "CoTRuTDAfr7r",
    "outputId": "c7b912e3-5019-468b-c935-e0b2395b12bc"
   },
   "outputs": [],
   "source": [
    "num_cities = 50\n",
    "cities_50 = [[63, 54], [77, 31], [86, 2], [94, 25], [13, 56], [41, 37], [74, 89], [28, 59], [54, 32], [57, 27], [27, 10], [82, 62], [10, 12], [35, 90], [70, 98], [35, 48], [9, 61], [2, 57], [11, 84], [83, 62], [64, 83], [46, 72], [98, 71], [14, 35], [91, 84], [11, 49], [22, 78], [0, 53], [99, 47], [19, 37], [63, 89], [8, 74], [98, 65], [58, 33], [49, 36], [35, 40], [17, 58], [50, 94], [93, 74], [33, 76], [51, 63], [22, 0], [11, 99], [10, 4], [34, 20], [21, 51], [44, 80], [39, 50], [50, 64], [90, 89]]\n",
    "\n",
    "#Generate a distance matrix from the list of 50 cities\n",
    "df = pd.DataFrame(cities_50, columns=['xcord', 'ycord'])\n",
    "cities_distance_matrix = distance_matrix(df.values, df.values)"
   ]
  },
  {
   "cell_type": "markdown",
   "metadata": {
    "id": "Ymaad7VLHfpY"
   },
   "source": [
    "Parameters for ACO with 50 cities\n"
   ]
  },
  {
   "cell_type": "code",
   "execution_count": 84,
   "metadata": {
    "id": "ELN2X4AQNvyV"
   },
   "outputs": [
    {
     "name": "stderr",
     "output_type": "stream",
     "text": [
      "100%|████████████████████████████████████████████████████████████████████████████| 30000/30000 [09:20<00:00, 53.55it/s]"
     ]
    },
    {
     "name": "stdout",
     "output_type": "stream",
     "text": [
      "711.7177251614949\n"
     ]
    },
    {
     "name": "stderr",
     "output_type": "stream",
     "text": [
      "\n"
     ]
    }
   ],
   "source": [
    "maxIterations = 30000\n",
    "ants= 100\n",
    "alpha = 1\n",
    "beta = 0.5\n",
    "\n",
    "pheromone_maxtix_50 = np.zeros(shape=(num_cities,num_cities))\n",
    "\n",
    "#run ACO for 50 cities\n",
    "for iteration in tqdm(range(maxIterations)):\n",
    "  aco_func(pheromone_maxtix_50,cities_distance_matrix,num_cities,ants,alpha,beta,ib_pheroupdate)\n",
    "\n",
    "aco_50 = aco_results(pheromone_maxtix_50,num_cities,cities_50)"
   ]
  },
  {
   "cell_type": "markdown",
   "metadata": {},
   "source": [
    "Run Nearest Neighbor with 50 Cities"
   ]
  },
  {
   "cell_type": "code",
   "execution_count": 85,
   "metadata": {},
   "outputs": [],
   "source": [
    "nearest_50 = nearest_neighbor(cities_distance_matrix,num_cities,cities_50)"
   ]
  },
  {
   "cell_type": "markdown",
   "metadata": {},
   "source": [
    "Run Christofides with 50 cities"
   ]
  },
  {
   "cell_type": "code",
   "execution_count": 86,
   "metadata": {},
   "outputs": [],
   "source": [
    "christofides_50 = christofides(cities_distance_matrix, num_cities)\n",
    "christofides_50 = christofides_total(christofides_50,cities_distance_matrix)"
   ]
  },
  {
   "cell_type": "markdown",
   "metadata": {
    "id": "U7dGpzP64AdK"
   },
   "source": [
    "## Create Tests for 25 cities"
   ]
  },
  {
   "cell_type": "code",
   "execution_count": 87,
   "metadata": {
    "colab": {
     "base_uri": "https://localhost:8080/"
    },
    "id": "CoTRuTDAfr7r",
    "outputId": "c7b912e3-5019-468b-c935-e0b2395b12bc"
   },
   "outputs": [],
   "source": [
    "num_cities = 25\n",
    "cities_25 = [random.sample(range(1000), 2) for x in range(num_cities)];\n",
    "\n",
    "#Generate a distance matrix from the list of 50 cities\n",
    "df = pd.DataFrame(cities_25, columns=['xcord', 'ycord'])\n",
    "cities_distance_matrix = distance_matrix(df.values, df.values)"
   ]
  },
  {
   "cell_type": "markdown",
   "metadata": {
    "id": "Ymaad7VLHfpY"
   },
   "source": [
    "Parameters for ACO with 25 cities\n"
   ]
  },
  {
   "cell_type": "code",
   "execution_count": 88,
   "metadata": {
    "id": "ELN2X4AQNvyV"
   },
   "outputs": [
    {
     "name": "stderr",
     "output_type": "stream",
     "text": [
      "100%|███████████████████████████████████████████████████████████████████████████| 30000/30000 [03:14<00:00, 154.14it/s]"
     ]
    },
    {
     "name": "stdout",
     "output_type": "stream",
     "text": [
      "4902.684526666636\n"
     ]
    },
    {
     "name": "stderr",
     "output_type": "stream",
     "text": [
      "\n"
     ]
    }
   ],
   "source": [
    "maxIterations = 30000\n",
    "ants= 100\n",
    "alpha = 1\n",
    "beta = 0.5\n",
    "\n",
    "pheromone_maxtix_25 = np.zeros(shape=(num_cities,num_cities))\n",
    "\n",
    "#run ACO for 50 cities\n",
    "for iteration in tqdm(range(maxIterations)):\n",
    "  aco_func(pheromone_maxtix_25,cities_distance_matrix,num_cities,ants,alpha,beta,ib_pheroupdate)\n",
    "\n",
    "aco_25 = aco_results(pheromone_maxtix_25,num_cities,cities_25)"
   ]
  },
  {
   "cell_type": "markdown",
   "metadata": {},
   "source": [
    "Run Nearest Neighbor with 25 Cities"
   ]
  },
  {
   "cell_type": "code",
   "execution_count": 89,
   "metadata": {},
   "outputs": [
    {
     "name": "stdout",
     "output_type": "stream",
     "text": [
      "927 µs ± 1.12 µs per loop (mean ± std. dev. of 7 runs, 1000 loops each)\n"
     ]
    }
   ],
   "source": [
    "#for iteration in tqdm(range(1)):\n",
    "nearest_25 = nearest_neighbor(cities_distance_matrix,num_cities,cities_25)"
   ]
  },
  {
   "cell_type": "markdown",
   "metadata": {},
   "source": [
    "Run Christofides with 25 cities"
   ]
  },
  {
   "cell_type": "code",
   "execution_count": 90,
   "metadata": {},
   "outputs": [],
   "source": [
    "christofides_25 = christofides(cities_distance_matrix, num_cities)\n",
    "christofides_25 = christofides_total(christofides_25,cities_distance_matrix)"
   ]
  },
  {
   "cell_type": "markdown",
   "metadata": {
    "id": "U7dGpzP64AdK"
   },
   "source": [
    "### Create Tests for 10 cities"
   ]
  },
  {
   "cell_type": "code",
   "execution_count": 91,
   "metadata": {
    "colab": {
     "base_uri": "https://localhost:8080/"
    },
    "id": "CoTRuTDAfr7r",
    "outputId": "c7b912e3-5019-468b-c935-e0b2395b12bc"
   },
   "outputs": [],
   "source": [
    "num_cities = 10\n",
    "cities_10 = [random.sample(range(1000), 2) for x in range(num_cities)];\n",
    "\n",
    "#Generate a distance matrix from the list of 50 cities\n",
    "df = pd.DataFrame(cities_10, columns=['xcord', 'ycord'])\n",
    "cities_distance_matrix = distance_matrix(df.values, df.values)"
   ]
  },
  {
   "cell_type": "markdown",
   "metadata": {
    "id": "Ymaad7VLHfpY"
   },
   "source": [
    "Parameters for ACO with 10 cities\n"
   ]
  },
  {
   "cell_type": "code",
   "execution_count": 92,
   "metadata": {
    "id": "ELN2X4AQNvyV"
   },
   "outputs": [
    {
     "name": "stderr",
     "output_type": "stream",
     "text": [
      "100%|███████████████████████████████████████████████████████████████████████████| 30000/30000 [00:44<00:00, 674.56it/s]"
     ]
    },
    {
     "name": "stdout",
     "output_type": "stream",
     "text": [
      "3253.605403870906\n"
     ]
    },
    {
     "name": "stderr",
     "output_type": "stream",
     "text": [
      "\n"
     ]
    }
   ],
   "source": [
    "maxIterations = 30000\n",
    "ants= 100\n",
    "alpha = 1\n",
    "beta = 0.5\n",
    "\n",
    "pheromone_maxtix_10 = np.zeros(shape=(num_cities,num_cities))\n",
    "\n",
    "#run ACO for 50 cities\n",
    "for iteration in tqdm(range(maxIterations)):\n",
    "  aco_func(pheromone_maxtix_10,cities_distance_matrix,num_cities,ants,alpha,beta,ib_pheroupdate)\n",
    "\n",
    "aco_10 = aco_results(pheromone_maxtix_10,num_cities,cities_10)"
   ]
  },
  {
   "cell_type": "markdown",
   "metadata": {},
   "source": [
    "Run Nearest Neighbor with 10 Cities"
   ]
  },
  {
   "cell_type": "code",
   "execution_count": 93,
   "metadata": {},
   "outputs": [
    {
     "name": "stdout",
     "output_type": "stream",
     "text": [
      "317 µs ± 1.97 µs per loop (mean ± std. dev. of 7 runs, 1000 loops each)\n"
     ]
    }
   ],
   "source": [
    "#for iteration in tqdm(range(1)):\n",
    "%timeit nearest_10 = nearest_neighbor(cities_distance_matrix,num_cities,cities_10)"
   ]
  },
  {
   "cell_type": "markdown",
   "metadata": {},
   "source": [
    "Run Christofides with 10 cities"
   ]
  },
  {
   "cell_type": "code",
   "execution_count": 94,
   "metadata": {},
   "outputs": [],
   "source": [
    "christofides_10 = christofides(cities_distance_matrix, num_cities)\n",
    "christofides_10 = christofides_total(christofides_10,cities_distance_matrix)"
   ]
  },
  {
   "cell_type": "markdown",
   "metadata": {
    "id": "hHWw1icf6gwF"
   },
   "source": [
    "## Graph Results"
   ]
  },
  {
   "cell_type": "code",
   "execution_count": 95,
   "metadata": {
    "id": "8Kkr2ud66jO1"
   },
   "outputs": [],
   "source": [
    "def sortCitiesSolution(lst,cities):\n",
    "    x = []\n",
    "    y = []\n",
    "    for val in lst:\n",
    "        x.append(cities[val][0])\n",
    "        y.append(cities[val][1])\n",
    "    return (x,y)\n",
    "    "
   ]
  },
  {
   "cell_type": "markdown",
   "metadata": {
    "id": "QbFpFdre6pEq"
   },
   "source": [
    "Nearest Neighbor stuff"
   ]
  },
  {
   "cell_type": "code",
   "execution_count": 106,
   "metadata": {
    "colab": {
     "base_uri": "https://localhost:8080/",
     "height": 295
    },
    "id": "fnZUCkd-6mO2",
    "outputId": "c55955e0-b318-47e7-9ccc-0f94d3ca9e7d"
   },
   "outputs": [
    {
     "data": {
      "image/png": "[encoded data removed]",
      "text/plain": [
       "<Figure size 432x288 with 1 Axes>"
      ]
     },
     "metadata": {
      "needs_background": "light"
     },
     "output_type": "display_data"
    }
   ],
   "source": [
    "route,total = nearest_50\n",
    "nearestNeighborX,nearestNeighborY = sortCitiesSolution(route,cities_50)\n",
    "fig,ax = plt.subplots()\n",
    "plt.scatter(nearestNeighborX,nearestNeighborY ,color='orange',zorder=1)\n",
    "plt.plot(nearestNeighborX,nearestNeighborY ,zorder=0)\n",
    "ax.set_ylabel('Longitude')\n",
    "ax.set_xlabel('Latitude')\n",
    "ax.set_title(\"Nearest Neighbor w/Value:\" + str(total))\n",
    "#plt.set_xticks(ind)\n",
    "fig.savefig(\"nearestneighbor.png\")\n",
    "plt.show()"
   ]
  },
  {
   "cell_type": "code",
   "execution_count": 104,
   "metadata": {
    "scrolled": true
   },
   "outputs": [
    {
     "data": {
      "image/png": "[encoded data removed]",
      "text/plain": [
       "<Figure size 432x288 with 1 Axes>"
      ]
     },
     "metadata": {
      "needs_background": "light"
     },
     "output_type": "display_data"
    }
   ],
   "source": [
    "s_iter,total_list = aco_50\n",
    "acoX,acoY = sortCitiesSolution(s_iter,cities_50)\n",
    "fig,ax = plt.subplots()\n",
    "plt.scatter(acoX,acoY,color='orange',zorder=1)\n",
    "plt.plot(acoX,acoY,zorder=0)\n",
    "ax.set_ylabel('Longitude')\n",
    "ax.set_xlabel('Latitude')\n",
    "title = \"ACO w/Value:\" + str(total_list)\n",
    "ax.set_title(title)\n",
    "fig.savefig(\"ACO.png\")\n",
    "plt.show()"
   ]
  },
  {
   "cell_type": "code",
   "execution_count": 103,
   "metadata": {},
   "outputs": [
    {
     "data": {
      "image/png": "[encoded data removed]",
      "text/plain": [
       "<Figure size 432x288 with 1 Axes>"
      ]
     },
     "metadata": {
      "needs_background": "light"
     },
     "output_type": "display_data"
    }
   ],
   "source": [
    "route,total = christofides_50\n",
    "nearestNeighborX,nearestNeighborY = sortCitiesSolution(route,cities_50)\n",
    "fig,ax = plt.subplots()\n",
    "plt.scatter(nearestNeighborX,nearestNeighborY ,color='orange',zorder=1)\n",
    "plt.plot(nearestNeighborX,nearestNeighborY ,zorder=0)\n",
    "ax.set_ylabel('Longitude')\n",
    "ax.set_xlabel('Latitude')\n",
    "ax.set_title('Christofides w/Value:' + str(ch50))\n",
    "#plt.set_xticks(ind)\n",
    "fig.savefig(\"Christofides.png\")\n",
    "plt.show()"
   ]
  },
  {
   "cell_type": "code",
   "execution_count": null,
   "metadata": {},
   "outputs": [],
   "source": []
  },
  {
   "cell_type": "code",
   "execution_count": null,
   "metadata": {},
   "outputs": [],
   "source": []
  }
 ],
 "metadata": {
  "colab": {
   "collapsed_sections": [],
   "name": "main.ipynb",
   "provenance": []
  },
  "kernelspec": {
   "display_name": "Python 3",
   "language": "python",
   "name": "python3"
  },
  "language_info": {
   "codemirror_mode": {
    "name": "ipython",
    "version": 3
   },
   "file_extension": ".py",
   "mimetype": "text/x-python",
   "name": "python",
   "nbconvert_exporter": "python",
   "pygments_lexer": "ipython3",
   "version": "3.8.5"
  }
 },
 "nbformat": 4,
 "nbformat_minor": 1
}
