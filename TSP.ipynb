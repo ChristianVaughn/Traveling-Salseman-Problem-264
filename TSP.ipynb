{
 "cells": [
  {
   "cell_type": "markdown",
   "metadata": {
    "id": "L7ymosx033Ge"
   },
   "source": [
    "Import python packages to be used"
   ]
  },
  {
   "cell_type": "code",
   "execution_count": 1,
   "metadata": {
    "id": "tHwhbwgP3zAN"
   },
   "outputs": [],
   "source": [
    "import random, numpy as np, math, copy, matplotlib.pyplot as plt\n",
    "import pandas as pd\n",
    "from scipy.spatial import distance_matrix\n",
    "from tqdm import tqdm\n",
    "from numba import njit, prange,vectorize, cuda\n",
    "from numba.typed import List"
   ]
  },
  {
   "cell_type": "markdown",
   "metadata": {
    "id": "U7dGpzP64AdK"
   },
   "source": [
    "Create a list of random cities to be used as the dataset for TSP"
   ]
  },
  {
   "cell_type": "code",
   "execution_count": 11,
   "metadata": {
    "colab": {
     "base_uri": "https://localhost:8080/"
    },
    "id": "CoTRuTDAfr7r",
    "outputId": "c7b912e3-5019-468b-c935-e0b2395b12bc"
   },
   "outputs": [],
   "source": [
    "cities = [random.sample(range(1000), 2) for x in range(50)];\n",
    "\n",
    "#Generate a distance matrix from the list of 50 cities\n",
    "df = pd.DataFrame(cities, columns=['xcord', 'ycord'])\n",
    "cities_distance_matrix = distance_matrix(df.values, df.values)\n",
    "\n",
    "#Randomly select a city to start at for both algorithms\n",
    "root = random.randint(0,49) #Randomly select one vertex as the root."
   ]
  },
  {
   "cell_type": "markdown",
   "metadata": {
    "id": "i_y5ca8yEHfk"
   },
   "source": [
    "Update Methods: \n",
    "\n",
    "*   as_pheroupdate: Ant System Update, S*upd* <- S*iter*\n",
    "*   ib_pheroupdate: Iteration Best Update, S*upd* <- arg max F(s) (to avoid premature converence, best 10(?) will be used)\n",
    "\n"
   ]
  },
  {
   "cell_type": "code",
   "execution_count": 3,
   "metadata": {
    "id": "nJXhJZtrDcXL"
   },
   "outputs": [],
   "source": [
    "#Ant System Update\n",
    "@njit\n",
    "def as_pheroupdate(pheromone_maxtix,s_iter,total_list):\n",
    "   for index in range(len(total_list)):\n",
    "    #print(s_iter[index])\n",
    "    for jdex in range(len(s_iter[index])-1):\n",
    "      x = s_iter[index][jdex]\n",
    "      y = s_iter[index][jdex+1]\n",
    "      pheromone_maxtix[x][y] += 1/total_list[index]"
   ]
  },
  {
   "cell_type": "code",
   "execution_count": 4,
   "metadata": {
    "id": "_epvx3uOE-oy"
   },
   "outputs": [],
   "source": [
    "#Iteration Best Update\n",
    "@njit\n",
    "def ib_pheroupdate(pheromone_maxtix,s_iter,total_list):\n",
    "  sort_index = np.argsort(np.asarray(total_list))\n",
    "  #print(sort_index)\n",
    "  #print(np.sort(vals))\n",
    "  for index in range(10):\n",
    "    for jdex in range(len(s_iter[index])-1):\n",
    "      x = s_iter[sort_index[index]][jdex]\n",
    "      y = s_iter[sort_index[index]][jdex+1]\n",
    "      pheromone_maxtix[x][y] += 1/total_list[sort_index[index]]"
   ]
  },
  {
   "cell_type": "markdown",
   "metadata": {},
   "source": [
    "Function to delete an element from a Numpy array that doesnt make Numba throw errors"
   ]
  },
  {
   "cell_type": "code",
   "execution_count": 5,
   "metadata": {},
   "outputs": [],
   "source": [
    "@njit\n",
    "def delete_workaround(arr, num):\n",
    "    mask = np.zeros(arr.shape[0], dtype=np.int64) == 0\n",
    "    mask[np.where(arr == num)[0]] = False\n",
    "    return arr[mask]\n"
   ]
  },
  {
   "cell_type": "markdown",
   "metadata": {
    "id": "-0ZHCGvGh_3J"
   },
   "source": [
    "Ant Colony Optimization using adjacency matrices"
   ]
  },
  {
   "cell_type": "code",
   "execution_count": 6,
   "metadata": {
    "id": "utNnrXiR4NvX"
   },
   "outputs": [],
   "source": [
    "#Start of ACO algo\n",
    "\n",
    "\n",
    "@njit(fastmath = True)\n",
    "def aco_func(pheromone_maxtix,cities_distance_matrix,ants,alpha,beta,update_func):\n",
    "  s_iter = List()\n",
    "  total_list = List()\n",
    "  \n",
    "  for i in prange(ants):\n",
    "    total = 0.0;\n",
    "    currentlocation = root\n",
    "    s = List()\n",
    "    s.append(root)\n",
    "    canVisit = np.arange(50)\n",
    "    #canVisit = np.delete(canVisit, np.argwhere(canVisit == currentlocation))\n",
    "    canVisit = delete_workaround(canVisit, currentlocation)\n",
    "    #print(\"start\")\n",
    "    while len(canVisit) !=0:\n",
    "      probSum = 0\n",
    "      probList = list()\n",
    "      for value in canVisit:\n",
    "        prob = (pheromone_maxtix[currentlocation][value] ** alpha) * ((1/cities_distance_matrix[currentlocation][value]) ** beta)\n",
    "        probSum += prob\n",
    "      if (probSum == 0):\n",
    "        newcity = np.random.choice(canVisit)\n",
    "      else:\n",
    "        for value in canVisit:\n",
    "          prob = ((pheromone_maxtix[currentlocation][value] ** alpha) * ((1/cities_distance_matrix[currentlocation][value]) ** beta)) / probSum\n",
    "          probList.append(prob)\n",
    "        cumulative_distribution = np.cumsum(np.asarray(probList))\n",
    "        cumulative_distribution /= cumulative_distribution[-1]\n",
    "        uniform_samples = np.random.rand(len(canVisit))\n",
    "        index = np.searchsorted(cumulative_distribution, uniform_samples, side=\"right\")\n",
    "        newcity = canVisit[index[0]]\n",
    "        \n",
    "      #print(\"newcity:\")\n",
    "      #print(newcity)\n",
    "      s.append(newcity)\n",
    "      total += cities_distance_matrix[currentlocation][newcity]\n",
    "      currentlocation = newcity\n",
    "      canVisit =  delete_workaround(canVisit, currentlocation)\n",
    "\n",
    "    s.append(root)\n",
    "    total += cities_distance_matrix[root][currentlocation]  \n",
    "    total_list.append(total)\n",
    "    s_iter.append(s)\n",
    "\n",
    "  #Pheromone Update\n",
    "  update_func(pheromone_maxtix,s_iter,total_list)"
   ]
  },
  {
   "cell_type": "markdown",
   "metadata": {},
   "source": [
    "Go through Adjacency matrix and return the most optimal path found."
   ]
  },
  {
   "cell_type": "code",
   "execution_count": 43,
   "metadata": {},
   "outputs": [],
   "source": [
    "def aco_results():\n",
    "    currentlocation = root  #start at the randomly determined starting city\n",
    "    total = 0   #counter for the total distance in the path taken\n",
    "    route = []    #list to store the path taken\n",
    "    canVisit = np.array(range(50))\n",
    "    canVisit = np.delete(canVisit, np.argwhere(canVisit == currentlocation))\n",
    "    route.append(currentlocation) #append the starting position to the route\n",
    "\n",
    "    #Each of the cities will be visited once, with the exception of the starting city, which we will return to\n",
    "    for i in range(len(cities)-1):\n",
    "        nextlocation = -1\n",
    "        max = np.NINF\n",
    "        for value in canVisit:\n",
    "            if pheromone_maxtix[currentlocation][value] > max:\n",
    "                max = pheromone_maxtix[currentlocation][value]\n",
    "                nextlocation = value\n",
    "        canVisit = np.delete(canVisit, np.argwhere(canVisit == currentlocation))\n",
    "        total += cities_distance_matrix[currentlocation][nextlocation] #adds the distance between the current city and the next city to the total\n",
    "        route.append(nextlocation) #appends the next city to the route\n",
    "        currentlocation = nextlocation #sets the current location to the next location\n",
    "        canVisit = np.delete(canVisit, np.argwhere(canVisit == currentlocation)) #drops the current city from the adjacency matrix since it can no longer be visited (with the exception of the return to the starting city)\n",
    "\n",
    "    #return to the starting location at the end\n",
    "    total += cities_distance_matrix[root][currentlocation] #find the distance from the last city visited to the starting location \n",
    "    route.append(root) #append the starting location to the route\n",
    "    print(total)\n",
    "    return route,total"
   ]
  },
  {
   "cell_type": "markdown",
   "metadata": {
    "id": "Ymaad7VLHfpY"
   },
   "source": [
    "Parameters for ACO"
   ]
  },
  {
   "cell_type": "code",
   "execution_count": 7,
   "metadata": {
    "id": "ELN2X4AQNvyV"
   },
   "outputs": [],
   "source": [
    "maxIterations = 30000\n",
    "ants= 100\n",
    "alpha = 1\n",
    "beta = 0.8"
   ]
  },
  {
   "cell_type": "markdown",
   "metadata": {
    "id": "KUcaeglglokr"
   },
   "source": [
    "Initialize Pheromone Matrix"
   ]
  },
  {
   "cell_type": "code",
   "execution_count": 8,
   "metadata": {
    "id": "pJu5Xea9lpV9"
   },
   "outputs": [],
   "source": [
    "pheromone_maxtix_50 = np.zeros(shape=(50,50))\n",
    "pheromone_maxtix_25 = np.zeros(shape=(25,25))\n",
    "pheromone_maxtix_10 = np.zeros(shape=(10,10))"
   ]
  },
  {
   "cell_type": "markdown",
   "metadata": {
    "id": "-p30-SBrHhfg"
   },
   "source": [
    "Click to run ACO algorithm for the specified number of iterations"
   ]
  },
  {
   "cell_type": "code",
   "execution_count": 9,
   "metadata": {
    "id": "VW_S1_mJHenO"
   },
   "outputs": [
    {
     "name": "stderr",
     "output_type": "stream",
     "text": [
      "100%|████████████████████████████████████████████████████████████████████████████| 30000/30000 [09:17<00:00, 53.83it/s]\n"
     ]
    }
   ],
   "source": [
    "for iteration in tqdm(range(maxIterations)):\n",
    "  aco_func(pheromone_maxtix,cities_distance_matrix,ants,alpha,beta,as_pheroupdate)"
   ]
  },
  {
   "cell_type": "code",
   "execution_count": 41,
   "metadata": {
    "colab": {
     "base_uri": "https://localhost:8080/"
    },
    "id": "2lKOaTxaN5iQ",
    "outputId": "1c72f329-6852-4418-8d62-3922e1cab306"
   },
   "outputs": [
    {
     "data": {
      "text/plain": [
       "array([[  0.        ,  59.20779971,  99.20679232, ..., 169.4534542 ,\n",
       "        127.66985258,   6.85212998],\n",
       "       [ 23.42248402,   0.        ,  13.63910896, ...,   1.73993575,\n",
       "          4.35907197,   0.56238722],\n",
       "       [188.59822444, 213.92758083,   0.        , ...,  30.9202519 ,\n",
       "         13.24207857,  30.54080027],\n",
       "       ...,\n",
       "       [ 32.84266149,  47.48088481,  28.03812147, ...,   0.        ,\n",
       "        205.66756723,   4.92048455],\n",
       "       [221.88955623,  32.9245035 ,  15.60777383, ..., 131.2115021 ,\n",
       "          0.        ,   4.62035457],\n",
       "       [ 41.12977213,  61.46200247,  35.76676368, ...,   7.45225877,\n",
       "         10.40562226,   0.        ]])"
      ]
     },
     "execution_count": 41,
     "metadata": {},
     "output_type": "execute_result"
    }
   ],
   "source": [
    "pheromone_maxtix"
   ]
  },
  {
   "cell_type": "markdown",
   "metadata": {
    "id": "hHWw1icf6gwF"
   },
   "source": [
    "Graph Stuff"
   ]
  },
  {
   "cell_type": "code",
   "execution_count": 46,
   "metadata": {
    "id": "8Kkr2ud66jO1"
   },
   "outputs": [],
   "source": [
    "def sortCitiesSolution(lst):\n",
    "    global cities\n",
    "    x = []\n",
    "    y = []\n",
    "    for val in lst:\n",
    "        x.append(cities[val][0])\n",
    "        y.append(cities[val][1])\n",
    "    return (x,y)\n",
    "    "
   ]
  },
  {
   "cell_type": "markdown",
   "metadata": {
    "id": "QbFpFdre6pEq"
   },
   "source": [
    "Nearest Neighbor stuff"
   ]
  },
  {
   "cell_type": "code",
   "execution_count": 47,
   "metadata": {
    "colab": {
     "base_uri": "https://localhost:8080/",
     "height": 295
    },
    "id": "fnZUCkd-6mO2",
    "outputId": "c55955e0-b318-47e7-9ccc-0f94d3ca9e7d"
   },
   "outputs": [
    {
     "data": {
      "image/png": "[encoded data removed]",
      "text/plain": [
       "<Figure size 432x288 with 1 Axes>"
      ]
     },
     "metadata": {
      "needs_background": "light"
     },
     "output_type": "display_data"
    }
   ],
   "source": [
    "nearestNeighborX,nearestNeighborY = sortCitiesSolution(route)\n",
    "fig,ax = plt.subplots()\n",
    "plt.scatter(nearestNeighborX,nearestNeighborY ,color='orange',zorder=1)\n",
    "plt.plot(nearestNeighborX,nearestNeighborY ,zorder=0)\n",
    "ax.set_ylabel('Longitude')\n",
    "ax.set_xlabel('Latitude')\n",
    "ax.set_title('Nearest Neighbor')\n",
    "#plt.set_xticks(ind)\n",
    "fig.savefig(\"nearestneighbor.png\")\n",
    "plt.show()"
   ]
  },
  {
   "cell_type": "code",
   "execution_count": 49,
   "metadata": {
    "scrolled": true
   },
   "outputs": [
    {
     "name": "stdout",
     "output_type": "stream",
     "text": [
      "738.233523336348\n"
     ]
    },
    {
     "data": {
      "image/png": "[encoded data removed]",
      "text/plain": [
       "<Figure size 432x288 with 1 Axes>"
      ]
     },
     "metadata": {
      "needs_background": "light"
     },
     "output_type": "display_data"
    }
   ],
   "source": [
    "s_iter,total_list = aco_results()\n",
    "nearestNeighborX,nearestNeighborY = sortCitiesSolution(s_iter)\n",
    "fig,ax = plt.subplots()\n",
    "plt.scatter(nearestNeighborX,nearestNeighborY ,color='orange',zorder=1)\n",
    "plt.plot(nearestNeighborX,nearestNeighborY ,zorder=0)\n",
    "ax.set_ylabel('Longitude')\n",
    "ax.set_xlabel('Latitude')\n",
    "ax.set_title('Nearest Neighbor')\n",
    "#plt.set_xticks(ind)\n",
    "fig.savefig(\"nearestneighbor.png\")\n",
    "plt.show()"
   ]
  },
  {
   "cell_type": "code",
   "execution_count": null,
   "metadata": {},
   "outputs": [],
   "source": []
  }
 ],
 "metadata": {
  "colab": {
   "collapsed_sections": [],
   "name": "main.ipynb",
   "provenance": []
  },
  "kernelspec": {
   "display_name": "Python 3",
   "language": "python",
   "name": "python3"
  },
  "language_info": {
   "codemirror_mode": {
    "name": "ipython",
    "version": 3
   },
   "file_extension": ".py",
   "mimetype": "text/x-python",
   "name": "python",
   "nbconvert_exporter": "python",
   "pygments_lexer": "ipython3",
   "version": "3.8.5"
  }
 },
 "nbformat": 4,
 "nbformat_minor": 1
}
